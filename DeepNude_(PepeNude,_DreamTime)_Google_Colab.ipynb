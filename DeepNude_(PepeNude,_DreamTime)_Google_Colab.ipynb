{
  "nbformat": 4,
  "nbformat_minor": 0,
  "metadata": {
    "colab": {
      "name": "Copy of DeepNude (PepeNude, DreamTime) Google Colab.ipynb",
      "version": "0.3.2",
      "provenance": [],
      "collapsed_sections": [],
      "toc_visible": true,
      "include_colab_link": true
    },
    "kernelspec": {
      "name": "python3",
      "display_name": "Python 3"
    },
    "accelerator": "GPU"
  },
  "cells": [
    {
      "cell_type": "markdown",
      "metadata": {
        "id": "view-in-github",
        "colab_type": "text"
      },
      "source": [
        "<a href=\"https://colab.research.google.com/github/Sergeydigl3/pepe-nude-colab/blob/master/DeepNude_(PepeNude%2C_DreamTime)_Google_Colab.ipynb\" target=\"_parent\"><img src=\"https://colab.research.google.com/assets/colab-badge.svg\" alt=\"Open In Colab\"/></a>"
      ]
    },
    {
      "cell_type": "markdown",
      "metadata": {
        "id": "dJcI3M0oD5bJ",
        "colab_type": "text"
      },
      "source": [
        "# INIT"
      ]
    },
    {
      "cell_type": "code",
      "metadata": {
        "id": "wtPiOxHQEMwo",
        "colab_type": "code",
        "cellView": "form",
        "colab": {}
      },
      "source": [
        "#@title Clonong repo and install requirements\n",
        "!git clone https://github.com/private-dreamnet/dreamtime.git\n",
        "%cd '/content/dreamtime/src/cli/'\n",
        "f=open('run.py','r').read().replace('create_watermark(nude)','nude');open('runt.py','w').write(f)\n",
        "!pip install git+https://github.com/jeroenmeulenaar/python3-mega.git\n",
        "!pip install mediafire\n",
        "!pip install -r /content/dreamtime/src/cli/requirements-ubuntu.txt\n",
        "\n",
        "\n"
      ],
      "execution_count": 0,
      "outputs": []
    },
    {
      "cell_type": "markdown",
      "metadata": {
        "id": "zwnehE_ln7A4",
        "colab_type": "text"
      },
      "source": [
        "## I got link here: \n",
        "https://gitgud.io/dreamnet/dreamtime#download-mirrors\n",
        "\n",
        "Also you can find torrent, and manualy upload to Mega\n",
        "\n",
        "\n",
        "\n",
        "---\n",
        "\n",
        "\n",
        "HowToDownload from MediaFire\n",
        "\n",
        "You need copy link from green download button\n",
        "and pase it in \"Direct_Link\".\n",
        "Example domain: http://download813.mediafire.com/...\n",
        "\n",
        "\n",
        "\n",
        "## This step will take a few minutes  ~25 minutes"
      ]
    },
    {
      "cell_type": "code",
      "metadata": {
        "id": "ko9abeEcihFZ",
        "colab_type": "code",
        "cellView": "form",
        "colab": {}
      },
      "source": [
        "#@title Download checkpoints (pytorch models  *.lib x3)\n",
        "%cd \"/content/dreamtime/src/cli/\"\n",
        "check_path = '/content/dreamtime/src/cli/checkpoints.zip'\n",
        "\n",
        "\n",
        "MegaNZ_url = \"https://mega.nz/#!3ih2jIgB!EcfD4_K_blnjfNfVmqhV4drrsN_xh4gaMsZzSZIw17s\" #@param {type:\"string\"}\n",
        "Direct_Link = \" \" #@param {type:\"string\"}\n",
        "\n",
        "Download_from = \"MegaNZ\" #@param [\"MegaNZ\", \"DirectLink\"]\n",
        "\n",
        "from pathlib import Path\n",
        "if Path(check_path).exists():\n",
        "  q_delete = input('Already downloaded. Delete zip file? (y)/n')\n",
        "  if q_delete.lower() == 'y': \n",
        "    !rm $check_path\n",
        "\n",
        "if not Path(check_path).exists():\n",
        "  print('Downloading started')\n",
        "  if Download_from == 'MegaNZ':\n",
        "    from mega import Mega\n",
        "    m = Mega.from_ephemeral()\n",
        "    m.download_from_url(MegaNZ_url)\n",
        "\n",
        "    \n",
        "\n",
        "  else:\n",
        "    import urllib\n",
        "    urllib.request.urlretrieve ( Direct_Link, \"checkpoints.zip\" )\n",
        "  print('Finished')\n",
        "#пиздец я заебался эту хуйню писать. Надеюсь заработает"
      ],
      "execution_count": 0,
      "outputs": []
    },
    {
      "cell_type": "code",
      "metadata": {
        "id": "04FNDS7etaM3",
        "colab_type": "code",
        "cellView": "form",
        "colab": {}
      },
      "source": [
        "#@title Unzip\n",
        "def unzip(zip_path, dest_path):\n",
        "  unzip_cmd = \" unzip -q \" + zip_path + \" -d \"+dest_path\n",
        "  !$unzip_cmd\n",
        "  print(\"Unziped!\")\n",
        "\n",
        "%cd '/content/dreamtime/src/cli'\n",
        "check_dir_path = '/content/dreamtime/src/cli/checkpoints'\n",
        "\n",
        "from pathlib import Path\n",
        "if Path(check_dir_path).exists():\n",
        "  !mkdir $check_dir_path\n",
        "\n",
        "unzip('checkpoints.zip', 'checkpoints')\n"
      ],
      "execution_count": 0,
      "outputs": []
    },
    {
      "cell_type": "markdown",
      "metadata": {
        "id": "cau5CTZPUu-n",
        "colab_type": "text"
      },
      "source": [
        "# Photo edit"
      ]
    },
    {
      "cell_type": "code",
      "metadata": {
        "id": "y0TvGuWqN6Kl",
        "colab_type": "code",
        "cellView": "form",
        "colab": {}
      },
      "source": [
        "#@title Upload\n",
        "%cd /content/dreamtime/src/cli/\n",
        "from pathlib import Path\n",
        "if not Path('photos').exists():\n",
        "  !mkdir photos\n",
        "\n",
        "\n",
        "%cd /content/dreamtime/src/cli/photos\n",
        "from google.colab import files\n",
        "uploaded = files.upload()"
      ],
      "execution_count": 0,
      "outputs": []
    },
    {
      "cell_type": "markdown",
      "metadata": {
        "id": "SdrIv5gpjTfw",
        "colab_type": "text"
      },
      "source": [
        "# SEND NUDES!"
      ]
    },
    {
      "cell_type": "code",
      "metadata": {
        "id": "bzRfBbINVfOW",
        "colab_type": "code",
        "cellView": "form",
        "colab": {}
      },
      "source": [
        "%cd \"/content/dreamtime/src/cli\"\n",
        "FileName = \"\" #@param {type:\"string\"}\n",
        "\n",
        "path='result'\n",
        "uploaded = files.upload()\n",
        "if not os.path.exists(path):\n",
        "    os.makedirs(path)\n",
        "\n",
        "!python main.py -i photos/$FileName -o results/$FileName --gpu 0"
      ],
      "execution_count": 0,
      "outputs": []
    }
  ]
}